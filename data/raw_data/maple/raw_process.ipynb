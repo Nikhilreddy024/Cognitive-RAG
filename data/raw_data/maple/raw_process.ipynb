{
 "cells": [
  {
   "cell_type": "code",
   "execution_count": null,
   "metadata": {},
   "outputs": [],
   "source": [
    "import os\n",
    "import json\n",
    "from tqdm import tqdm\n",
    "\n",
    "import pickle"
   ]
  },
  {
   "cell_type": "code",
   "execution_count": null,
   "metadata": {},
   "outputs": [],
   "source": [
    "## nodes: papers, authors, venues\n",
    "## paper features: title, abstract, year, label\n",
    "## author features: name\n",
    "## venue features: name"
   ]
  },
  {
   "cell_type": "code",
   "execution_count": null,
   "metadata": {},
   "outputs": [],
   "source": [
    "domain=\"Physics\" # Medicine, Chemistry, Biology, Physics, Materials_Science"
   ]
  },
  {
   "cell_type": "code",
   "execution_count": null,
   "metadata": {},
   "outputs": [],
   "source": [
    "raw_data_dir=f\"Paths/raw_data\"\n",
    "save_dir=f\"Paths/save\""
   ]
  },
  {
   "cell_type": "code",
   "execution_count": null,
   "metadata": {},
   "outputs": [],
   "source": [
    "## read raw data files\n",
    "\n",
    "def read_json_lines(file, id_key):\n",
    "    data = {}\n",
    "    with open(file) as f:\n",
    "        readin = f.readlines()\n",
    "        for line in tqdm(readin):\n",
    "            tmp = json.loads(line)\n",
    "            data[tmp[id_key]] = tmp\n",
    "    return data\n",
    "\n",
    "def read_txt_lines(file, target=1):\n",
    "    data = {}\n",
    "    with open(file) as f:\n",
    "        readin = f.readlines()\n",
    "        for line in tqdm(readin):\n",
    "            tmp = line.strip().split('\\t')\n",
    "            data[tmp[0]] = tmp[target]\n",
    "    return data\n",
    "\n",
    "book_raw_data = read_json_lines(os.path.join(raw_data_dir, 'papers.json'), 'paper')\n",
    "author_raw_data = read_txt_lines(os.path.join(raw_data_dir, 'authors.txt'), 2)\n",
    "venue_raw_data = read_txt_lines(os.path.join(raw_data_dir, 'venues.txt'), 1)\n",
    "category_raw_data = read_txt_lines(os.path.join(raw_data_dir, 'labels.txt'), 1)"
   ]
  },
  {
   "cell_type": "code",
   "execution_count": null,
   "metadata": {},
   "outputs": [],
   "source": [
    "## construct node dictionary\n",
    "## paper features: title, abstract, year, label\n",
    "## paper neighbors: paper, author, venue\n",
    "\n",
    "## author features: name\n",
    "## author neighbors: paper\n",
    "\n",
    "## venue features: name\n",
    "## venue neighbors: paper\n",
    "\n",
    "paper_nodes = {}\n",
    "author_nodes = {}\n",
    "venue_nodes = {}\n",
    "\n",
    "venue_name2id = {}\n",
    "\n",
    "for paper_id in tqdm(book_raw_data):\n",
    "    paper = book_raw_data[paper_id]\n",
    "\n",
    "    # venue nodes\n",
    "    if paper['venue'] != '':\n",
    "        if paper['venue'] not in venue_nodes:\n",
    "            venue_nodes[paper['venue']] = {'features': {}, 'neighbors': {}}\n",
    "            venue_nodes[paper['venue']]['features']['name'] = venue_raw_data[paper['venue']]\n",
    "            venue_nodes[paper['venue']]['neighbors']['paper'] = [paper[\"paper\"]]\n",
    "        else:\n",
    "            venue_nodes[paper['venue']]['neighbors']['paper'].append(paper[\"paper\"])\n",
    "\n",
    "    # paper nodes\n",
    "    paper_nodes[paper_id] = {'features': {}, 'neighbors': {}}\n",
    "    ## add features\n",
    "    paper_nodes[paper_id]['features']['title'] = paper['title']\n",
    "    paper_nodes[paper_id]['features']['abstract'] = paper['abstract']\n",
    "    paper_nodes[paper_id]['features']['year'] = paper['year']\n",
    "    paper_nodes[paper_id]['features']['label'] = [category_raw_data[lb] for lb in paper['label']]\n",
    "    ## add neighbors\n",
    "    paper_nodes[paper_id]['neighbors']['author'] = paper['author']\n",
    "    paper_nodes[paper_id]['neighbors']['venue'] = [paper['venue']] if paper['venue'] != '' else []\n",
    "    paper_nodes[paper_id]['neighbors']['reference'] = paper['reference']\n",
    "    paper_nodes[paper_id]['neighbors']['cited_by'] = []\n",
    "\n",
    "    # author nodes\n",
    "    for aid in paper['author']:\n",
    "        if aid not in author_nodes:\n",
    "            author_nodes[aid] = {'features': {}, 'neighbors': {}}\n",
    "            author_nodes[aid]['features']['name'] = author_raw_data[aid]\n",
    "            author_nodes[aid]['neighbors']['paper'] = [paper[\"paper\"]]\n",
    "        else:\n",
    "            author_nodes[aid]['neighbors']['paper'].append(paper[\"paper\"])\n",
    "\n",
    "## add 'cited_by' for paper nodes\n",
    "for paper_id in tqdm(paper_nodes):\n",
    "    for ref_pid in paper_nodes[paper_id]['neighbors']['reference']:\n",
    "        if ref_pid not in paper_nodes:\n",
    "            continue\n",
    "        paper_nodes[ref_pid]['neighbors']['cited_by'].append(paper_id)\n"
   ]
  },
  {
   "cell_type": "code",
   "execution_count": null,
   "metadata": {},
   "outputs": [],
   "source": [
    "## save graph\n",
    "#pickle.dump({\n",
    "#    'paper_nodes': paper_nodes,\n",
    "#    'author_nodes': author_nodes,\n",
    "#    'venue_nodes': venue_nodes,\n",
    "#}, open(os.path.join(save_dir, 'graph.pkl'),\"wb\"))\n",
    "\n",
    "json.dump({\n",
    "    'paper_nodes': paper_nodes,\n",
    "    'author_nodes': author_nodes,\n",
    "    'venue_nodes': venue_nodes,\n",
    "}, open(os.path.join(save_dir, 'graph.json'),\"w\"), indent=4)"
   ]
  }
 ],
 "metadata": {
  "kernelspec": {
   "display_name": "transformers-latest",
   "language": "python",
   "name": "python3"
  },
  "language_info": {
   "codemirror_mode": {
    "name": "ipython",
    "version": 3
   },
   "file_extension": ".py",
   "mimetype": "text/x-python",
   "name": "python",
   "nbconvert_exporter": "python",
   "pygments_lexer": "ipython3",
   "version": "3.8.17"
  },
  "orig_nbformat": 4
 },
 "nbformat": 4,
 "nbformat_minor": 2
}
